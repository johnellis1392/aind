{
 "cells": [
  {
   "cell_type": "markdown",
   "metadata": {},
   "source": [
    "# Solving Sudoku with AI"
   ]
  },
  {
   "cell_type": "markdown",
   "metadata": {},
   "source": [
    "This is my solution for Udacity's AI Nanodegree's Sudoku Solver project.\n",
    "\n",
    "Also, for future refere"
   ]
  },
  {
   "cell_type": "code",
   "execution_count": 198,
   "metadata": {},
   "outputs": [],
   "source": [
    "# Dependencies\n",
    "from functools import reduce"
   ]
  },
  {
   "cell_type": "code",
   "execution_count": 278,
   "metadata": {},
   "outputs": [],
   "source": [
    "# Simple Test Case for Validating Code\n",
    "\n",
    "# Note: Both these test cases fail when the diagonal unit check is added.\n",
    "tests = [\n",
    "    {\n",
    "        'input': '..3.2.6..9..3.5..1..18.64....81.29..7.......8..67.82....26.95..8..2.3..9..5.1.3..',\n",
    "        'output': '483921657967345821251876493548132976729564138136798245372689514814253769695417382'\n",
    "    },\n",
    "    {\n",
    "        'input': '4.....8.5.3..........7......2.....6.....8.4......1.......6.3.7.5..2.....1.4......',\n",
    "        'output': ''\n",
    "    }\n",
    "]"
   ]
  },
  {
   "cell_type": "code",
   "execution_count": 200,
   "metadata": {},
   "outputs": [],
   "source": [
    "# Base Row and Column Information\n",
    "rows = 'ABCDEFGHI'\n",
    "cols = '123456789'"
   ]
  },
  {
   "cell_type": "code",
   "execution_count": 201,
   "metadata": {},
   "outputs": [],
   "source": [
    "def cross(a, b):\n",
    "    \"\"\"\n",
    "    Calculate the cross product of two lists\n",
    "    \"\"\"\n",
    "    return [ s + t for s in a for t in b ]"
   ]
  },
  {
   "cell_type": "code",
   "execution_count": 276,
   "metadata": {},
   "outputs": [],
   "source": [
    "# Set of all possible Boxes in a Sudoku Game\n",
    "boxes = cross(rows, cols)\n",
    "\n",
    "# Calculate all Unit elements for Rows, Columns, and Squares\n",
    "row_units = [ cross(r, cols) for r in rows ]\n",
    "column_units = [ cross(rows, c) for c in cols ]\n",
    "square_units = [ cross(rs, cs) for rs in ('ABC', 'DEF', 'GHI') for cs in ('123', '456', '789') ]\n",
    "\n",
    "# Calculate Diagonal Units\n",
    "diagonal_units = [\n",
    "    [ a + b for a, b in zip(rows, cols) ],\n",
    "    [ a + b for a, b in zip(rows, reversed(cols)) ]\n",
    "]\n",
    "\n",
    "# Combined Unit List\n",
    "unitlist = row_units + column_units + square_units # + diagonal_units\n",
    "\n",
    "# Create Maps for Units by Unit Name and Units' Peers by Unit Name\n",
    "units = dict((s, [u for u in unitlist if s in u ]) for s in boxes)\n",
    "peers = dict((s, set(sum(units[s], [])) - set([s])) for s in boxes)"
   ]
  },
  {
   "cell_type": "code",
   "execution_count": 203,
   "metadata": {},
   "outputs": [],
   "source": [
    "def display(values):\n",
    "    \"\"\"\n",
    "    Print a 2-Dimensional representation of the given\n",
    "    Sudoku board.\n",
    "    \"\"\"\n",
    "    \n",
    "    width = 1 + max(len(values[s]) for s in boxes)\n",
    "    line = '+'.join([ '-' * (width * 3)] * 3)\n",
    "    for r in rows:\n",
    "        print(''.join(values[r + c].center(width) + ('|' if c in '36' else '') for c in cols))\n",
    "        if r in 'CF': print(line)\n",
    "    return"
   ]
  },
  {
   "cell_type": "code",
   "execution_count": 204,
   "metadata": {},
   "outputs": [],
   "source": [
    "def grid_values(grid):\n",
    "    \"\"\"\n",
    "    Convert grid string into {<box>: <value>} dict with '123456789' value for empties.\n",
    "    \n",
    "    Args:\n",
    "        grid: Sudoku grid in string form, 81 characters long\n",
    "    Returns:\n",
    "        Sudoku grid in dictionary form:\n",
    "        - keys: Box labels, e.g. 'A1'\n",
    "        - values: Value in corresponding box, e.g. '8', or '.' if it is empty.\n",
    "    \"\"\"\n",
    "    \n",
    "    empty_box_val = '123456789'\n",
    "    return { k: (empty_box_val if v == '.' else v) for k, v in zip(boxes, grid) }"
   ]
  },
  {
   "cell_type": "code",
   "execution_count": 205,
   "metadata": {},
   "outputs": [],
   "source": [
    "def eliminate(values):\n",
    "    \"\"\"\n",
    "    Eliminate values from peers of each box with a single value.\n",
    "    \n",
    "    Go through all the boxes, and whenever there is a box with a single value,\n",
    "    eliminate this value from the set of values of all its peers.\n",
    "    \n",
    "    Args:\n",
    "        values: Sudoku in dictionary form.\n",
    "    Returns:\n",
    "        Resulting Sudoku in dictionary form after elminating values.\n",
    "    \"\"\"\n",
    "    \n",
    "    solved_values = [ box for box in values.keys() if len(values[box]) == 1 ]\n",
    "    for box in solved_values:\n",
    "        val = values[box]\n",
    "        for peer in peers[box]:\n",
    "            values[peer] = values[peer].replace(val, '')\n",
    "    return values"
   ]
  },
  {
   "cell_type": "code",
   "execution_count": 206,
   "metadata": {},
   "outputs": [],
   "source": [
    "def only_choice(values):\n",
    "    \"\"\"\n",
    "    Finalize all values that are the only choice for a unit.\n",
    "\n",
    "    Go through all the units, and whenever there is a unit with a value\n",
    "    that only fits in one box, assign the value to this box.\n",
    "\n",
    "    Args:\n",
    "        values: Sudoku in dictionary form.\n",
    "    Returns:\n",
    "        Resulting Sudoku in dictionary form after filling in only choices.\n",
    "    \"\"\"\n",
    "    \n",
    "    for box in values.keys():\n",
    "        peer_values = reduce(lambda s, i: s.union(set(i)), map(lambda peer: values[peer], peers[box]), set())\n",
    "        \n",
    "        intersect_values = set(values[box]) - peer_values\n",
    "        if len(intersect_values) == 1:\n",
    "            values[box] = intersect_values.pop()\n",
    "\n",
    "    return values"
   ]
  },
  {
   "cell_type": "code",
   "execution_count": 207,
   "metadata": {},
   "outputs": [],
   "source": [
    "def naked_twins(values):\n",
    "    \"\"\"\n",
    "    Use Naked Twins elimination strategy to remove invalid\n",
    "    configurations from the grid.\n",
    "    \"\"\"\n",
    "    vs = values.copy()\n",
    "    \n",
    "    for box in values.keys():\n",
    "        for peer in peers[box]:\n",
    "            if len(values[box]) == 2 and len(values[peer]) == 2 and set(values[box]) == set(values[peer]):\n",
    "                for p in set(peers[box]).intersection(set(peers[peer])):\n",
    "                    for digit in values[box]:\n",
    "                        vs[p] = vs[p].replace(digit, '')\n",
    "    \n",
    "    return vs"
   ]
  },
  {
   "cell_type": "code",
   "execution_count": 208,
   "metadata": {},
   "outputs": [],
   "source": [
    "def reduce_puzzle(values):\n",
    "    \"\"\"\n",
    "    Reduce the given Sudoku puzzle by recursively eliminating and simplifying obvious choices.\n",
    "    \"\"\"\n",
    "    \n",
    "    stalled = False\n",
    "    while not stalled:\n",
    "        solved_values_before = len([ box for box in values.keys() if len(values[box]) == 1])\n",
    "        \n",
    "        values = eliminate(values)\n",
    "        values = only_choice(values)\n",
    "        values = naked_twins(values)\n",
    "        \n",
    "        solved_values_after = len([ box for box in values.keys() if len(values[box]) == 1 ])\n",
    "        stalled = solved_values_before == solved_values_after\n",
    "        \n",
    "        if len([ box for box in values.keys() if len(values[box]) == 0 ]):\n",
    "            return False\n",
    "        \n",
    "    return values"
   ]
  },
  {
   "cell_type": "code",
   "execution_count": 209,
   "metadata": {},
   "outputs": [],
   "source": [
    "def search(values):\n",
    "    \"\"\"\n",
    "    Using depth-first search and propagation, create\n",
    "    a search tree and solve the sudoku.\n",
    "    \"\"\"\n",
    "    \n",
    "    values = reduce_puzzle(values)\n",
    "    if values == False:\n",
    "        return False\n",
    "    \n",
    "    # Get all unfilled boxes\n",
    "    unfilled = sorted([ box for box in values.keys() if len(values[box]) > 1 ])\n",
    "    if len(unfilled) == 0:\n",
    "        return values\n",
    "    \n",
    "    target_box = unfilled[0]\n",
    "    \n",
    "    for val in values[target_box]:\n",
    "        vs = values.copy()\n",
    "        vs[target_box] = val\n",
    "        result = search(vs)\n",
    "        if result != False:\n",
    "            return result\n",
    "    \n",
    "    return False"
   ]
  },
  {
   "cell_type": "code",
   "execution_count": 220,
   "metadata": {},
   "outputs": [],
   "source": [
    "def convert_output(values):\n",
    "    return reduce(lambda s, i: s + i, [ values[box] for box in boxes ], '')"
   ]
  },
  {
   "cell_type": "code",
   "execution_count": 273,
   "metadata": {},
   "outputs": [],
   "source": [
    "def validate_board(values):\n",
    "    for unit in unitlist:\n",
    "        unit_values = reduce(lambda s, y: s + y, sorted(map(lambda box: values[box], unit)), '')\n",
    "        #print('Values: {}'.format(unit_values))\n",
    "        assert unit_values == '123456789', \"Unit={}, Expected '123456789', but got: '{}'\".format(list(unit), unit_values)\n",
    "    return"
   ]
  },
  {
   "cell_type": "code",
   "execution_count": 274,
   "metadata": {},
   "outputs": [],
   "source": [
    "def test_case(test_input, expected_output):\n",
    "    print(\"Running Test for Input: '{}'\".format(test_input))\n",
    "    values = grid_values(test_input)\n",
    "    output = search(values)\n",
    "    \n",
    "    validate_board(output)\n",
    "    \n",
    "    print()\n",
    "    print(\"Received Output: '{}'\".format(convert_output(output)))\n",
    "    print(\"Expected Output: '{}'\".format(expected_output))\n",
    "    \n",
    "    print()\n",
    "    display(output)\n",
    "    # assert output == expected_output"
   ]
  },
  {
   "cell_type": "code",
   "execution_count": 277,
   "metadata": {},
   "outputs": [
    {
     "name": "stdout",
     "output_type": "stream",
     "text": [
      "Running Test for Input: '..3.2.6..9..3.5..1..18.64....81.29..7.......8..67.82....26.95..8..2.3..9..5.1.3..'\n",
      "\n",
      "Received Output: '483921657967345821251876493548132976729564138136798245372689514814253769695417382'\n",
      "Expected Output: '483921657967345821251876493548132976729564138136798245372689514814253769695417382'\n",
      "\n",
      "4 8 3 |9 2 1 |6 5 7 \n",
      "9 6 7 |3 4 5 |8 2 1 \n",
      "2 5 1 |8 7 6 |4 9 3 \n",
      "------+------+------\n",
      "5 4 8 |1 3 2 |9 7 6 \n",
      "7 2 9 |5 6 4 |1 3 8 \n",
      "1 3 6 |7 9 8 |2 4 5 \n",
      "------+------+------\n",
      "3 7 2 |6 8 9 |5 1 4 \n",
      "8 1 4 |2 5 3 |7 6 9 \n",
      "6 9 5 |4 1 7 |3 8 2 \n"
     ]
    }
   ],
   "source": [
    "test_case(tests[0]['input'], tests[0]['output'])"
   ]
  },
  {
   "cell_type": "code",
   "execution_count": 217,
   "metadata": {},
   "outputs": [
    {
     "name": "stdout",
     "output_type": "stream",
     "text": [
      "Running Test for Input: '4.....8.5.3..........7......2.....6.....8.4......1.......6.3.7.5..2.....1.4......'\n",
      "\n",
      "Received Output: '417369825632158947958724316825437169791586432346912758289643571573291684164875293'\n",
      "Expected Output: ''\n",
      "\n",
      "4 1 7 |3 6 9 |8 2 5 \n",
      "6 3 2 |1 5 8 |9 4 7 \n",
      "9 5 8 |7 2 4 |3 1 6 \n",
      "------+------+------\n",
      "8 2 5 |4 3 7 |1 6 9 \n",
      "7 9 1 |5 8 6 |4 3 2 \n",
      "3 4 6 |9 1 2 |7 5 8 \n",
      "------+------+------\n",
      "2 8 9 |6 4 3 |5 7 1 \n",
      "5 7 3 |2 9 1 |6 8 4 \n",
      "1 6 4 |8 7 5 |2 9 3 \n"
     ]
    }
   ],
   "source": [
    "test_case(tests[1]['input'], tests[1]['output'])"
   ]
  }
 ],
 "metadata": {
  "kernelspec": {
   "display_name": "Python 3",
   "language": "python",
   "name": "python3"
  },
  "language_info": {
   "codemirror_mode": {
    "name": "ipython",
    "version": 3
   },
   "file_extension": ".py",
   "mimetype": "text/x-python",
   "name": "python",
   "nbconvert_exporter": "python",
   "pygments_lexer": "ipython3",
   "version": "3.7.0"
  }
 },
 "nbformat": 4,
 "nbformat_minor": 2
}
